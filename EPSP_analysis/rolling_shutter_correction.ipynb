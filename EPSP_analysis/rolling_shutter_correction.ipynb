{
 "cells": [
  {
   "cell_type": "code",
   "execution_count": 1,
   "metadata": {},
   "outputs": [],
   "source": [
    "import os\n",
    "import glob\n",
    "import pickle\n",
    "\n",
    "import numpy as np\n",
    "from skimage import io\n",
    "import matplotlib.pyplot as plt\n",
    "from scipy.interpolate import interp1d"
   ]
  },
  {
   "cell_type": "code",
   "execution_count": 6,
   "metadata": {},
   "outputs": [
    {
     "data": {
      "text/plain": [
       "True"
      ]
     },
     "execution_count": 6,
     "metadata": {},
     "output_type": "execute_result"
    }
   ],
   "source": [
    "test_img_path = '/Volumes/CLab/dendritic_scaling/rolling_shutter_test/Corti-hSyn-5f-DIV24-C2-482-TTXPTX-FOV7p9-200fps00069.tif'\n",
    "test_img_path = '/Users/ykhao/Downloads/rolling_shutter_test/Corti-hSyn-5f-DIV24-C2-482-TTXPTX-FOV7p9-200fps00069.tif'\n",
    "os.path.exists(test_img_path)"
   ]
  },
  {
   "cell_type": "code",
   "execution_count": 8,
   "metadata": {},
   "outputs": [
    {
     "data": {
      "text/plain": [
       "(256, 512, 13000)"
      ]
     },
     "execution_count": 8,
     "metadata": {},
     "output_type": "execute_result"
    }
   ],
   "source": [
    "img = io.imread(test_img_path).astype('float32')\n",
    "# permute image in (x,y,t) order\n",
    "img = np.transpose(img, (1,2,0))\n",
    "img.shape"
   ]
  },
  {
   "cell_type": "code",
   "execution_count": 9,
   "metadata": {},
   "outputs": [],
   "source": [
    "# Correct the rolling_shutter effect for images\n",
    "# Assume the rolling shutter effect is in the x direction\n",
    "# For each row of the image, assign the row with a time\n",
    "mid_row = (img.shape[0]-1) / 2\n",
    "mid_row_time = np.arange(1, img.shape[2])  # if the first row starts at time 0, then the mid row starts at time 1\n",
    "corrected_img = np.zeros_like(img[:,:,:-1])\n",
    "for row_idx in range(img.shape[0]):\n",
    "    row_time = np.floor(np.abs(row_idx - mid_row)) / np.floor(mid_row) + np.arange(0, img.shape[2])\n",
    "    row = img[row_idx]\n",
    "    corrected_img[row_idx] = interp1d(row_time, row, axis=1, kind='linear')(mid_row_time)"
   ]
  },
  {
   "cell_type": "code",
   "execution_count": 12,
   "metadata": {},
   "outputs": [],
   "source": [
    "corrected_img = np.transpose(corrected_img, (2,0,1))"
   ]
  },
  {
   "cell_type": "code",
   "execution_count": 13,
   "metadata": {},
   "outputs": [
    {
     "name": "stderr",
     "output_type": "stream",
     "text": [
      "/var/folders/2j/4hbq8yj13p1ftfnlwv03r8700000gn/T/ipykernel_13480/1663893780.py:2: UserWarning: /Users/ykhao/Downloads/rolling_shutter_test/corrected.tif is a low contrast image\n",
      "  io.imsave('/Users/ykhao/Downloads/rolling_shutter_test/corrected.tif', corrected_img.astype('uint16'))\n"
     ]
    }
   ],
   "source": [
    "# save the corrected image\n",
    "io.imsave('/Users/ykhao/Downloads/rolling_shutter_test/corrected.tif', corrected_img.astype('uint16'))"
   ]
  },
  {
   "cell_type": "code",
   "execution_count": 2,
   "metadata": {},
   "outputs": [],
   "source": [
    "def rolling_shutter_correct(img):\n",
    "    # input image in (x,y,t) order\n",
    "    mid_row = (img.shape[0]-1) / 2\n",
    "    mid_row_time = np.arange(1, img.shape[2])  # if the first row starts at time 0, then the mid row starts at time 1\n",
    "    corrected_img = np.zeros_like(img[:,:,:-1])\n",
    "    for row_idx in range(img.shape[0]):\n",
    "        row_time = np.floor(np.abs(row_idx - mid_row)) / np.floor(mid_row) + np.arange(0, img.shape[2])\n",
    "        row = img[row_idx]\n",
    "        corrected_img[row_idx] = interp1d(row_time, row, axis=1, kind='linear')(mid_row_time)\n",
    "    return corrected_img"
   ]
  },
  {
   "cell_type": "code",
   "execution_count": 5,
   "metadata": {},
   "outputs": [],
   "source": [
    "# image_dir_list = [\n",
    "#     '/Volumes/CLab/dendritic_scaling/20231215_B33_neurons_DIV24_dendritic_scaling_2/B2-470/B33-DIV24-B2-470-TIFF/TTX',\n",
    "#     '/Volumes/CLab/dendritic_scaling/20231215_B33_neurons_DIV24_dendritic_scaling_2/B3-470/B33-DIV24-B3-470-TIFF/TTX',\n",
    "#     '/Volumes/CLab/dendritic_scaling/20231215_B33_neurons_DIV24_dendritic_scaling_2/C2-482/B33-DIV24-C2-482-TIFF/TTX',\n",
    "#     '/Volumes/CLab/dendritic_scaling/20231215_B33_neurons_DIV24_dendritic_scaling_2/C3-482/B33-DIV24-C3-482-TIFF/TTX',\n",
    "#     '/Volumes/CLab/dendritic_scaling/20231212_B33-neurons-DIV21_dendritic-scaling/Well2/B33-DIV21-corti-glassbottom-well2-TIFF/TTX',\n",
    "#     '/Volumes/CLab/dendritic_scaling/20231212_B33-neurons-DIV21_dendritic-scaling/Well3/B33-DIV21-corti-glassbottom-well3-TIFF/TTX',\n",
    "#     '/Volumes/CLab/dendritic_scaling/20231212_B33-neurons-DIV21_dendritic-scaling/Well4/B33-DIV21-corti-glassbottom-well4-TIFF/TTX']\n",
    "\n",
    "# image_dir_list = [\n",
    "#     '/Volumes/MyPassport/dendritic_scaling/20240209/C1_wellB2/TTX_PTX/',\n",
    "#     '/Volumes/MyPassport/dendritic_scaling/20240209/C1_wellC2/TTX_PTX/',\n",
    "#     '/Volumes/MyPassport/dendritic_scaling/20240209/C1_wellC3/TTX_PTX/']\n",
    "\n",
    "# image_dir_list = [\n",
    "#     '/Volumes/MyPassport/dendritic_scaling/20240210/plateC2_WellB2/TTX_PTX/',\n",
    "#     '/Volumes/MyPassport/dendritic_scaling/20240210/plateC2_WellB3/TTX_PTX/',\n",
    "#     '/Volumes/MyPassport/dendritic_scaling/20240210/plateC2_WellC2/TTX_PTX/',\n",
    "#     '/Volumes/MyPassport/dendritic_scaling/20240210/plateC2_WellC3/TTX_PTX/']\n",
    "# image_dir_list = [\n",
    "#     '/Volumes/MyPassport/dendritic_scaling/20240215/plateC3_WellB2/TTX_PTX/',\n",
    "#     '/Volumes/MyPassport/dendritic_scaling/20240215/plateC3_WellB3/TTX_PTX/',\n",
    "#     '/Volumes/MyPassport/dendritic_scaling/20240215/plateC3_WellB4/TTX_PTX/',\n",
    "#     '/Volumes/MyPassport/dendritic_scaling/20240215/plateC3_WellC2/TTX_PTX/',\n",
    "#     '/Volumes/MyPassport/dendritic_scaling/20240215/plateC3_WellC3/TTX_PTX/']\n",
    "# image_dir_list = [\n",
    "#     '/Volumes/MyPassport/dendritic_scaling/20240216/plateC2_WellB2/',\n",
    "#     '/Volumes/MyPassport/dendritic_scaling/20240216/plateC2_WellB3/',\n",
    "#     '/Volumes/MyPassport/dendritic_scaling/20240216/plateC2_WellC2/',\n",
    "#     '/Volumes/MyPassport/dendritic_scaling/20240216/plateC2_WellC3/']\n",
    "\n",
    "image_dir_list = [\n",
    "    '/Volumes/CLab/dendritic_scaling/20240331/B38_plateC1_wellB2/TTXonly/',\n",
    "    '/Volumes/CLab/dendritic_scaling/20240331/B38_plateC1_wellC2/TTXonly/']"
   ]
  },
  {
   "cell_type": "code",
   "execution_count": 4,
   "metadata": {},
   "outputs": [],
   "source": [
    "# for image_dir in image_dir_list:\n",
    "#     # move all the tif files to a new directory in image_dir called 'raw'\n",
    "#     raw_dir = os.path.join(image_dir, 'raw')\n",
    "#     os.makedirs(raw_dir, exist_ok=True)\n",
    "#     tif_files = glob.glob(os.path.join(image_dir, '*.tif'))\n",
    "#     for tif_file in tif_files:\n",
    "#         os.rename(tif_file, os.path.join(raw_dir, os.path.basename(tif_file)))"
   ]
  },
  {
   "cell_type": "code",
   "execution_count": null,
   "metadata": {},
   "outputs": [],
   "source": [
    "for image_dir in image_dir_list:\n",
    "    print(image_dir)\n",
    "    image_list = glob.glob(os.path.join(image_dir, 'raw', '*.tif'))\n",
    "    for image_path in image_list:\n",
    "        img = io.imread(image_path).astype('uint16')\n",
    "        img = np.transpose(img, (1,2,0))\n",
    "        corrected_img = rolling_shutter_correct(img)\n",
    "        corrected_img = np.transpose(corrected_img, (2,0,1))\n",
    "        save_path = os.path.join(image_dir, os.path.basename(image_path))\n",
    "        io.imsave(save_path, corrected_img.astype('uint16'))"
   ]
  },
  {
   "cell_type": "code",
   "execution_count": null,
   "metadata": {},
   "outputs": [],
   "source": []
  }
 ],
 "metadata": {
  "kernelspec": {
   "display_name": "flybrain2",
   "language": "python",
   "name": "python3"
  },
  "language_info": {
   "codemirror_mode": {
    "name": "ipython",
    "version": 3
   },
   "file_extension": ".py",
   "mimetype": "text/x-python",
   "name": "python",
   "nbconvert_exporter": "python",
   "pygments_lexer": "ipython3",
   "version": "3.10.11"
  }
 },
 "nbformat": 4,
 "nbformat_minor": 2
}
